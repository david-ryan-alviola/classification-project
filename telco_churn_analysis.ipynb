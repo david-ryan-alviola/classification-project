{
 "cells": [
  {
   "cell_type": "code",
   "execution_count": 1,
   "id": "timely-effort",
   "metadata": {},
   "outputs": [],
   "source": [
    "import pandas as pd\n",
    "\n",
    "from scipy import stats\n",
    "from acquire import acquire_telco_churn_data\n",
    "from prepare import prepare_telco_data\n",
    "from utilities import generate_xy_splits, nan_null_empty_check, evaluate_hypothesis_pcorrelation, evaluate_hypothesis_ttest\n",
    "from explore import explore_univariate, explore_bivariate, explore_multivariate"
   ]
  },
  {
   "cell_type": "markdown",
   "id": "enhanced-directive",
   "metadata": {},
   "source": [
    "# Attention Grabbing Title"
   ]
  },
  {
   "cell_type": "markdown",
   "id": "coral-ballot",
   "metadata": {},
   "source": [
    "## Agenda\n",
    "1. Executive Summary\n",
    "2. Data Science Pipeline\n",
    "3. Conclusion"
   ]
  },
  {
   "cell_type": "markdown",
   "id": "institutional-representation",
   "metadata": {},
   "source": [
    "## Executive Summary"
   ]
  },
  {
   "cell_type": "markdown",
   "id": "improved-retro",
   "metadata": {},
   "source": [
    "## Planning\n",
    "The Agile Kanban methodology was used to map out the tasks for this project. The Kanban board used can be found <a href=\"https://trello.com/b/ipr1KRLX/classification-project\">here</a>.\n",
    "We planned to test the following:\n",
    "1. Dependency between month-to-month contracts and churn\n",
    "    * Null hypothesis - Churn is independent of month-to-month contracts.\n",
    "    * Alternative hypothesis - Month-to-month contracts and churn are dependent on each other.\n",
    "2. Dependency between fiber and churn\n",
    "    * Null hypothesis - Churn is independent of fiber service.\n",
    "    * Alternative hypothesis - Fiber service and churn are dependent on each other.\n",
    "3. Correlation between tenure and monthly charges\n",
    "    * Null hypothesis - Monthly charges do not correlate with tenure.\n",
    "    * Alternative hypothesis - Monthly charges and tenure have a correlation.\n",
    "4. Month-to-month fiber customers and monthly charges\n",
    "    * Null hypothesis - Month-to-month fiber customers do not pay more in monthly charges than other customers.\n",
    "    * Alternative hypothesis - Month-to-month fiber customers do pay higher monthly charges than other customers.\n",
    "\n",
    "#### Data Dictionary\n",
    "    <table>\n",
    "        <tr>\n",
    "            <th>col</th>\n",
    "            <th>val</th>\n",
    "        </tr>\n",
    "        <tr>\n",
    "            <th>row</th>\n",
    "            <td>data</td>\n",
    "        </tr>\n",
    "    </table>"
   ]
  },
  {
   "cell_type": "markdown",
   "id": "current-bouquet",
   "metadata": {},
   "source": [
    "## Acquisition\n",
    "Data was obtained from the from the `telco_churn` database using this query:\n",
    "> `SELECT *\n",
    "       FROM customers\n",
    "           JOIN contract_types USING(contract_type_id)\n",
    "           JOIN internet_service_types USING(internet_service_type_id)\n",
    "           JOIN payment_types USING(payment_type_id);`\n",
    "\n",
    "We scripted the acquisition with the `acquire_telco_churn_data` function."
   ]
  },
  {
   "cell_type": "code",
   "execution_count": 2,
   "id": "mexican-function",
   "metadata": {},
   "outputs": [],
   "source": [
    "telco_df = acquire_telco_churn_data()"
   ]
  },
  {
   "cell_type": "code",
   "execution_count": 3,
   "id": "becoming-backing",
   "metadata": {},
   "outputs": [
    {
     "name": "stdout",
     "output_type": "stream",
     "text": [
      "<class 'pandas.core.frame.DataFrame'>\n",
      "RangeIndex: 7043 entries, 0 to 7042\n",
      "Data columns (total 25 columns):\n",
      " #   Column                    Non-Null Count  Dtype  \n",
      "---  ------                    --------------  -----  \n",
      " 0   Unnamed: 0                7043 non-null   int64  \n",
      " 1   payment_type_id           7043 non-null   int64  \n",
      " 2   internet_service_type_id  7043 non-null   int64  \n",
      " 3   contract_type_id          7043 non-null   int64  \n",
      " 4   customer_id               7043 non-null   object \n",
      " 5   gender                    7043 non-null   object \n",
      " 6   senior_citizen            7043 non-null   int64  \n",
      " 7   partner                   7043 non-null   object \n",
      " 8   dependents                7043 non-null   object \n",
      " 9   tenure                    7043 non-null   int64  \n",
      " 10  phone_service             7043 non-null   object \n",
      " 11  multiple_lines            7043 non-null   object \n",
      " 12  online_security           7043 non-null   object \n",
      " 13  online_backup             7043 non-null   object \n",
      " 14  device_protection         7043 non-null   object \n",
      " 15  tech_support              7043 non-null   object \n",
      " 16  streaming_tv              7043 non-null   object \n",
      " 17  streaming_movies          7043 non-null   object \n",
      " 18  paperless_billing         7043 non-null   object \n",
      " 19  monthly_charges           7043 non-null   float64\n",
      " 20  total_charges             7043 non-null   object \n",
      " 21  churn                     7043 non-null   object \n",
      " 22  contract_type             7043 non-null   object \n",
      " 23  internet_service_type     7043 non-null   object \n",
      " 24  payment_type              7043 non-null   object \n",
      "dtypes: float64(1), int64(6), object(18)\n",
      "memory usage: 1.3+ MB\n"
     ]
    }
   ],
   "source": [
    "telco_df.info()"
   ]
  },
  {
   "cell_type": "markdown",
   "id": "boolean-coordination",
   "metadata": {},
   "source": [
    "The `info` function told us that we had mostly `str` values that would need to be encoded. Also, 25 columns seemed a little high to manage effectively. `Unnamed: 0`, `payment_type_id`, `internet_service_type_id`, `contract_type_id`, `multiple_lines`, and `customer_id` were identified as redundant or irrelevant and were marked for dropping in the next phase.\n",
    "\n",
    "The non-null counts led us to believe that there were no missing values, however, the `nan_null_empty_check` utility revealed there were columns with empty strings as values:"
   ]
  },
  {
   "cell_type": "code",
   "execution_count": 4,
   "id": "forced-flooring",
   "metadata": {},
   "outputs": [
    {
     "name": "stdout",
     "output_type": "stream",
     "text": [
      "{'nan_positions': (array([], dtype=int64), array([], dtype=int64)), 'empty_positions': (array([1878, 1949, 2029, 2048, 2132, 6143, 6569, 6605, 6615, 6686, 6895]), array([20, 20, 20, 20, 20, 20, 20, 20, 20, 20, 20]))}\n"
     ]
    }
   ],
   "source": [
    "missing_positions = nan_null_empty_check(telco_df)\n",
    "print(missing_positions)"
   ]
  },
  {
   "cell_type": "markdown",
   "id": "dental-portugal",
   "metadata": {},
   "source": [
    "This result told us that there were empty strings as values in the rows listed above (the first array under the `empty_positions` key) all belonging to column 20 (`total_charges`). These values were identified as needing cleaning in the Preparation phase.\n",
    "\n",
    "A random sample showed us that some columns that seemed binary actually had a third value (\"No internet service\" or \"No phone service\") that would need to be simplified."
   ]
  },
  {
   "cell_type": "code",
   "execution_count": 5,
   "id": "right-boutique",
   "metadata": {},
   "outputs": [
    {
     "data": {
      "text/html": [
       "<div>\n",
       "<style scoped>\n",
       "    .dataframe tbody tr th:only-of-type {\n",
       "        vertical-align: middle;\n",
       "    }\n",
       "\n",
       "    .dataframe tbody tr th {\n",
       "        vertical-align: top;\n",
       "    }\n",
       "\n",
       "    .dataframe thead th {\n",
       "        text-align: right;\n",
       "    }\n",
       "</style>\n",
       "<table border=\"1\" class=\"dataframe\">\n",
       "  <thead>\n",
       "    <tr style=\"text-align: right;\">\n",
       "      <th></th>\n",
       "      <th>Unnamed: 0</th>\n",
       "      <th>payment_type_id</th>\n",
       "      <th>internet_service_type_id</th>\n",
       "      <th>contract_type_id</th>\n",
       "      <th>customer_id</th>\n",
       "      <th>gender</th>\n",
       "      <th>senior_citizen</th>\n",
       "      <th>partner</th>\n",
       "      <th>dependents</th>\n",
       "      <th>tenure</th>\n",
       "      <th>...</th>\n",
       "      <th>tech_support</th>\n",
       "      <th>streaming_tv</th>\n",
       "      <th>streaming_movies</th>\n",
       "      <th>paperless_billing</th>\n",
       "      <th>monthly_charges</th>\n",
       "      <th>total_charges</th>\n",
       "      <th>churn</th>\n",
       "      <th>contract_type</th>\n",
       "      <th>internet_service_type</th>\n",
       "      <th>payment_type</th>\n",
       "    </tr>\n",
       "  </thead>\n",
       "  <tbody>\n",
       "    <tr>\n",
       "      <th>139</th>\n",
       "      <td>139</td>\n",
       "      <td>1</td>\n",
       "      <td>1</td>\n",
       "      <td>1</td>\n",
       "      <td>1310-QRITU</td>\n",
       "      <td>Female</td>\n",
       "      <td>0</td>\n",
       "      <td>No</td>\n",
       "      <td>No</td>\n",
       "      <td>18</td>\n",
       "      <td>...</td>\n",
       "      <td>No</td>\n",
       "      <td>No</td>\n",
       "      <td>No</td>\n",
       "      <td>Yes</td>\n",
       "      <td>50.30</td>\n",
       "      <td>913.3</td>\n",
       "      <td>No</td>\n",
       "      <td>Month-to-month</td>\n",
       "      <td>DSL</td>\n",
       "      <td>Electronic check</td>\n",
       "    </tr>\n",
       "    <tr>\n",
       "      <th>610</th>\n",
       "      <td>610</td>\n",
       "      <td>4</td>\n",
       "      <td>1</td>\n",
       "      <td>1</td>\n",
       "      <td>4957-TREIR</td>\n",
       "      <td>Male</td>\n",
       "      <td>0</td>\n",
       "      <td>No</td>\n",
       "      <td>No</td>\n",
       "      <td>3</td>\n",
       "      <td>...</td>\n",
       "      <td>Yes</td>\n",
       "      <td>Yes</td>\n",
       "      <td>No</td>\n",
       "      <td>Yes</td>\n",
       "      <td>64.40</td>\n",
       "      <td>195.65</td>\n",
       "      <td>No</td>\n",
       "      <td>Month-to-month</td>\n",
       "      <td>DSL</td>\n",
       "      <td>Credit card (automatic)</td>\n",
       "    </tr>\n",
       "    <tr>\n",
       "      <th>622</th>\n",
       "      <td>622</td>\n",
       "      <td>1</td>\n",
       "      <td>1</td>\n",
       "      <td>1</td>\n",
       "      <td>5057-LCOUI</td>\n",
       "      <td>Female</td>\n",
       "      <td>0</td>\n",
       "      <td>No</td>\n",
       "      <td>No</td>\n",
       "      <td>39</td>\n",
       "      <td>...</td>\n",
       "      <td>No</td>\n",
       "      <td>Yes</td>\n",
       "      <td>Yes</td>\n",
       "      <td>Yes</td>\n",
       "      <td>50.75</td>\n",
       "      <td>2011.4</td>\n",
       "      <td>Yes</td>\n",
       "      <td>Month-to-month</td>\n",
       "      <td>DSL</td>\n",
       "      <td>Electronic check</td>\n",
       "    </tr>\n",
       "    <tr>\n",
       "      <th>3522</th>\n",
       "      <td>3522</td>\n",
       "      <td>4</td>\n",
       "      <td>2</td>\n",
       "      <td>1</td>\n",
       "      <td>5095-AESKG</td>\n",
       "      <td>Female</td>\n",
       "      <td>0</td>\n",
       "      <td>Yes</td>\n",
       "      <td>No</td>\n",
       "      <td>3</td>\n",
       "      <td>...</td>\n",
       "      <td>No</td>\n",
       "      <td>No</td>\n",
       "      <td>Yes</td>\n",
       "      <td>Yes</td>\n",
       "      <td>91.50</td>\n",
       "      <td>242.95</td>\n",
       "      <td>Yes</td>\n",
       "      <td>Month-to-month</td>\n",
       "      <td>Fiber optic</td>\n",
       "      <td>Credit card (automatic)</td>\n",
       "    </tr>\n",
       "    <tr>\n",
       "      <th>5149</th>\n",
       "      <td>5149</td>\n",
       "      <td>1</td>\n",
       "      <td>2</td>\n",
       "      <td>3</td>\n",
       "      <td>1428-IEDPR</td>\n",
       "      <td>Male</td>\n",
       "      <td>0</td>\n",
       "      <td>No</td>\n",
       "      <td>No</td>\n",
       "      <td>52</td>\n",
       "      <td>...</td>\n",
       "      <td>Yes</td>\n",
       "      <td>Yes</td>\n",
       "      <td>Yes</td>\n",
       "      <td>Yes</td>\n",
       "      <td>109.30</td>\n",
       "      <td>5731.4</td>\n",
       "      <td>No</td>\n",
       "      <td>Two year</td>\n",
       "      <td>Fiber optic</td>\n",
       "      <td>Electronic check</td>\n",
       "    </tr>\n",
       "    <tr>\n",
       "      <th>6674</th>\n",
       "      <td>6674</td>\n",
       "      <td>4</td>\n",
       "      <td>3</td>\n",
       "      <td>3</td>\n",
       "      <td>4086-WITJG</td>\n",
       "      <td>Male</td>\n",
       "      <td>0</td>\n",
       "      <td>Yes</td>\n",
       "      <td>Yes</td>\n",
       "      <td>71</td>\n",
       "      <td>...</td>\n",
       "      <td>No internet service</td>\n",
       "      <td>No internet service</td>\n",
       "      <td>No internet service</td>\n",
       "      <td>No</td>\n",
       "      <td>19.70</td>\n",
       "      <td>1301.1</td>\n",
       "      <td>No</td>\n",
       "      <td>Two year</td>\n",
       "      <td>None</td>\n",
       "      <td>Credit card (automatic)</td>\n",
       "    </tr>\n",
       "    <tr>\n",
       "      <th>824</th>\n",
       "      <td>824</td>\n",
       "      <td>4</td>\n",
       "      <td>1</td>\n",
       "      <td>1</td>\n",
       "      <td>6661-EIPZC</td>\n",
       "      <td>Female</td>\n",
       "      <td>0</td>\n",
       "      <td>Yes</td>\n",
       "      <td>Yes</td>\n",
       "      <td>48</td>\n",
       "      <td>...</td>\n",
       "      <td>Yes</td>\n",
       "      <td>No</td>\n",
       "      <td>No</td>\n",
       "      <td>Yes</td>\n",
       "      <td>29.50</td>\n",
       "      <td>1423.05</td>\n",
       "      <td>No</td>\n",
       "      <td>Month-to-month</td>\n",
       "      <td>DSL</td>\n",
       "      <td>Credit card (automatic)</td>\n",
       "    </tr>\n",
       "    <tr>\n",
       "      <th>3903</th>\n",
       "      <td>3903</td>\n",
       "      <td>2</td>\n",
       "      <td>2</td>\n",
       "      <td>1</td>\n",
       "      <td>6857-VWJDT</td>\n",
       "      <td>Female</td>\n",
       "      <td>0</td>\n",
       "      <td>No</td>\n",
       "      <td>No</td>\n",
       "      <td>1</td>\n",
       "      <td>...</td>\n",
       "      <td>No</td>\n",
       "      <td>Yes</td>\n",
       "      <td>Yes</td>\n",
       "      <td>No</td>\n",
       "      <td>95.65</td>\n",
       "      <td>95.65</td>\n",
       "      <td>Yes</td>\n",
       "      <td>Month-to-month</td>\n",
       "      <td>Fiber optic</td>\n",
       "      <td>Mailed check</td>\n",
       "    </tr>\n",
       "    <tr>\n",
       "      <th>1518</th>\n",
       "      <td>1518</td>\n",
       "      <td>4</td>\n",
       "      <td>1</td>\n",
       "      <td>2</td>\n",
       "      <td>5170-PTRKA</td>\n",
       "      <td>Female</td>\n",
       "      <td>0</td>\n",
       "      <td>Yes</td>\n",
       "      <td>Yes</td>\n",
       "      <td>49</td>\n",
       "      <td>...</td>\n",
       "      <td>Yes</td>\n",
       "      <td>No</td>\n",
       "      <td>No</td>\n",
       "      <td>Yes</td>\n",
       "      <td>35.80</td>\n",
       "      <td>1782</td>\n",
       "      <td>No</td>\n",
       "      <td>One year</td>\n",
       "      <td>DSL</td>\n",
       "      <td>Credit card (automatic)</td>\n",
       "    </tr>\n",
       "    <tr>\n",
       "      <th>2731</th>\n",
       "      <td>2731</td>\n",
       "      <td>3</td>\n",
       "      <td>2</td>\n",
       "      <td>1</td>\n",
       "      <td>1482-OXZSY</td>\n",
       "      <td>Male</td>\n",
       "      <td>0</td>\n",
       "      <td>No</td>\n",
       "      <td>No</td>\n",
       "      <td>30</td>\n",
       "      <td>...</td>\n",
       "      <td>No</td>\n",
       "      <td>Yes</td>\n",
       "      <td>Yes</td>\n",
       "      <td>Yes</td>\n",
       "      <td>100.40</td>\n",
       "      <td>2936.25</td>\n",
       "      <td>No</td>\n",
       "      <td>Month-to-month</td>\n",
       "      <td>Fiber optic</td>\n",
       "      <td>Bank transfer (automatic)</td>\n",
       "    </tr>\n",
       "  </tbody>\n",
       "</table>\n",
       "<p>10 rows × 25 columns</p>\n",
       "</div>"
      ],
      "text/plain": [
       "      Unnamed: 0  payment_type_id  internet_service_type_id  contract_type_id  \\\n",
       "139          139                1                         1                 1   \n",
       "610          610                4                         1                 1   \n",
       "622          622                1                         1                 1   \n",
       "3522        3522                4                         2                 1   \n",
       "5149        5149                1                         2                 3   \n",
       "6674        6674                4                         3                 3   \n",
       "824          824                4                         1                 1   \n",
       "3903        3903                2                         2                 1   \n",
       "1518        1518                4                         1                 2   \n",
       "2731        2731                3                         2                 1   \n",
       "\n",
       "     customer_id  gender  senior_citizen partner dependents  tenure  ...  \\\n",
       "139   1310-QRITU  Female               0      No         No      18  ...   \n",
       "610   4957-TREIR    Male               0      No         No       3  ...   \n",
       "622   5057-LCOUI  Female               0      No         No      39  ...   \n",
       "3522  5095-AESKG  Female               0     Yes         No       3  ...   \n",
       "5149  1428-IEDPR    Male               0      No         No      52  ...   \n",
       "6674  4086-WITJG    Male               0     Yes        Yes      71  ...   \n",
       "824   6661-EIPZC  Female               0     Yes        Yes      48  ...   \n",
       "3903  6857-VWJDT  Female               0      No         No       1  ...   \n",
       "1518  5170-PTRKA  Female               0     Yes        Yes      49  ...   \n",
       "2731  1482-OXZSY    Male               0      No         No      30  ...   \n",
       "\n",
       "             tech_support         streaming_tv     streaming_movies  \\\n",
       "139                    No                   No                   No   \n",
       "610                   Yes                  Yes                   No   \n",
       "622                    No                  Yes                  Yes   \n",
       "3522                   No                   No                  Yes   \n",
       "5149                  Yes                  Yes                  Yes   \n",
       "6674  No internet service  No internet service  No internet service   \n",
       "824                   Yes                   No                   No   \n",
       "3903                   No                  Yes                  Yes   \n",
       "1518                  Yes                   No                   No   \n",
       "2731                   No                  Yes                  Yes   \n",
       "\n",
       "     paperless_billing monthly_charges total_charges churn   contract_type  \\\n",
       "139                Yes           50.30         913.3    No  Month-to-month   \n",
       "610                Yes           64.40        195.65    No  Month-to-month   \n",
       "622                Yes           50.75        2011.4   Yes  Month-to-month   \n",
       "3522               Yes           91.50        242.95   Yes  Month-to-month   \n",
       "5149               Yes          109.30        5731.4    No        Two year   \n",
       "6674                No           19.70        1301.1    No        Two year   \n",
       "824                Yes           29.50       1423.05    No  Month-to-month   \n",
       "3903                No           95.65         95.65   Yes  Month-to-month   \n",
       "1518               Yes           35.80          1782    No        One year   \n",
       "2731               Yes          100.40       2936.25    No  Month-to-month   \n",
       "\n",
       "     internet_service_type               payment_type  \n",
       "139                    DSL           Electronic check  \n",
       "610                    DSL    Credit card (automatic)  \n",
       "622                    DSL           Electronic check  \n",
       "3522           Fiber optic    Credit card (automatic)  \n",
       "5149           Fiber optic           Electronic check  \n",
       "6674                  None    Credit card (automatic)  \n",
       "824                    DSL    Credit card (automatic)  \n",
       "3903           Fiber optic               Mailed check  \n",
       "1518                   DSL    Credit card (automatic)  \n",
       "2731           Fiber optic  Bank transfer (automatic)  \n",
       "\n",
       "[10 rows x 25 columns]"
      ]
     },
     "execution_count": 5,
     "metadata": {},
     "output_type": "execute_result"
    }
   ],
   "source": [
    "telco_df.sample(10)"
   ]
  },
  {
   "cell_type": "markdown",
   "id": "later-disorder",
   "metadata": {},
   "source": [
    "## Preparation\n",
    "\n",
    "We prepared the data by addressing the issues identified in the acquisition phase. First, we pulled the relevant information from the rows with missing values."
   ]
  },
  {
   "cell_type": "code",
   "execution_count": 6,
   "id": "brutal-concern",
   "metadata": {},
   "outputs": [
    {
     "data": {
      "text/html": [
       "<div>\n",
       "<style scoped>\n",
       "    .dataframe tbody tr th:only-of-type {\n",
       "        vertical-align: middle;\n",
       "    }\n",
       "\n",
       "    .dataframe tbody tr th {\n",
       "        vertical-align: top;\n",
       "    }\n",
       "\n",
       "    .dataframe thead th {\n",
       "        text-align: right;\n",
       "    }\n",
       "</style>\n",
       "<table border=\"1\" class=\"dataframe\">\n",
       "  <thead>\n",
       "    <tr style=\"text-align: right;\">\n",
       "      <th></th>\n",
       "      <th>tenure</th>\n",
       "      <th>monthly_charges</th>\n",
       "      <th>total_charges</th>\n",
       "    </tr>\n",
       "  </thead>\n",
       "  <tbody>\n",
       "    <tr>\n",
       "      <th>1878</th>\n",
       "      <td>0</td>\n",
       "      <td>56.05</td>\n",
       "      <td></td>\n",
       "    </tr>\n",
       "    <tr>\n",
       "      <th>1949</th>\n",
       "      <td>0</td>\n",
       "      <td>61.90</td>\n",
       "      <td></td>\n",
       "    </tr>\n",
       "    <tr>\n",
       "      <th>2029</th>\n",
       "      <td>0</td>\n",
       "      <td>73.35</td>\n",
       "      <td></td>\n",
       "    </tr>\n",
       "    <tr>\n",
       "      <th>2048</th>\n",
       "      <td>0</td>\n",
       "      <td>52.55</td>\n",
       "      <td></td>\n",
       "    </tr>\n",
       "    <tr>\n",
       "      <th>2132</th>\n",
       "      <td>0</td>\n",
       "      <td>80.85</td>\n",
       "      <td></td>\n",
       "    </tr>\n",
       "    <tr>\n",
       "      <th>6143</th>\n",
       "      <td>0</td>\n",
       "      <td>19.70</td>\n",
       "      <td></td>\n",
       "    </tr>\n",
       "    <tr>\n",
       "      <th>6569</th>\n",
       "      <td>0</td>\n",
       "      <td>20.00</td>\n",
       "      <td></td>\n",
       "    </tr>\n",
       "    <tr>\n",
       "      <th>6605</th>\n",
       "      <td>0</td>\n",
       "      <td>20.25</td>\n",
       "      <td></td>\n",
       "    </tr>\n",
       "    <tr>\n",
       "      <th>6615</th>\n",
       "      <td>0</td>\n",
       "      <td>25.35</td>\n",
       "      <td></td>\n",
       "    </tr>\n",
       "    <tr>\n",
       "      <th>6686</th>\n",
       "      <td>0</td>\n",
       "      <td>25.75</td>\n",
       "      <td></td>\n",
       "    </tr>\n",
       "    <tr>\n",
       "      <th>6895</th>\n",
       "      <td>0</td>\n",
       "      <td>19.85</td>\n",
       "      <td></td>\n",
       "    </tr>\n",
       "  </tbody>\n",
       "</table>\n",
       "</div>"
      ],
      "text/plain": [
       "      tenure  monthly_charges total_charges\n",
       "1878       0            56.05              \n",
       "1949       0            61.90              \n",
       "2029       0            73.35              \n",
       "2048       0            52.55              \n",
       "2132       0            80.85              \n",
       "6143       0            19.70              \n",
       "6569       0            20.00              \n",
       "6605       0            20.25              \n",
       "6615       0            25.35              \n",
       "6686       0            25.75              \n",
       "6895       0            19.85              "
      ]
     },
     "execution_count": 6,
     "metadata": {},
     "output_type": "execute_result"
    }
   ],
   "source": [
    "rows = missing_positions['empty_positions'][0]\n",
    "telco_df.iloc[rows][['tenure', 'monthly_charges', 'total_charges']]"
   ]
  },
  {
   "cell_type": "markdown",
   "id": "purple-bonus",
   "metadata": {},
   "source": [
    "Since these rows all had a tenure of 0, we assumed that `total_charges` was equal to `monthly_charges` and set them equal to each other. The `total_charges` column was then converted to float values.\n",
    "\n",
    "The `Unnamed: 0`, `payment_type_id`, `internet_service_type_id`, `contract_type_id`, `multiple_lines`, and `customer_id` were dropped since they contained redundant or information not deemed useful.\n",
    "\n",
    "We combined `online_backup`, `online_security`, `device_protection`, and `tech_support` into `internet_extras` to simplify the features and remove the need to deal with the \"No internet service\" values. Similarly, `streaming_movies` and `streaming_tv` were combinged into `streaming_entertainment`.\n",
    "\n",
    "The `partner` and `dependents` columns were combined into the `family` column.\n",
    "\n",
    "Finally, the non-numerical columns were encoded into numerical values and the new columns were renamed to remove spaces.\n",
    "\n",
    "These changes were scripted into the `prepare_telco_data` function."
   ]
  },
  {
   "cell_type": "code",
   "execution_count": 7,
   "id": "arctic-russian",
   "metadata": {},
   "outputs": [],
   "source": [
    "train, validate, test = prepare_telco_data(telco_df)"
   ]
  },
  {
   "cell_type": "markdown",
   "id": "superior-onion",
   "metadata": {},
   "source": [
    "## Explore\n",
    "\n",
    "Univariate exploration was performed using the `explore_univariate` function:"
   ]
  },
  {
   "cell_type": "code",
   "execution_count": 8,
   "id": "practical-accommodation",
   "metadata": {},
   "outputs": [
    {
     "data": {
      "image/png": "[encoded data removed]",
      "text/plain": [
       "<Figure size 144x144 with 1 Axes>"
      ]
     },
     "metadata": {
      "needs_background": "light"
     },
     "output_type": "display_data"
    },
    {
     "name": "stdout",
     "output_type": "stream",
     "text": [
      "   contract_type_Month-to-month  Count  Percent\n",
      "1                             1   2192    55.59\n",
      "0                             0   1751    44.41\n",
      "_________________________________________________________________\n"
     ]
    },
    {
     "data": {
      "image/png": "[encoded data removed]",
      "text/plain": [
       "<Figure size 144x144 with 1 Axes>"
      ]
     },
     "metadata": {
      "needs_background": "light"
     },
     "output_type": "display_data"
    },
    {
     "name": "stdout",
     "output_type": "stream",
     "text": [
      "   contract_type_One_year  Count  Percent\n",
      "0                       0   3122    79.18\n",
      "1                       1    821    20.82\n",
      "_________________________________________________________________\n"
     ]
    },
    {
     "data": {
      "image/png": "[encoded data removed]",
      "text/plain": [
       "<Figure size 144x144 with 1 Axes>"
      ]
     },
     "metadata": {
      "needs_background": "light"
     },
     "output_type": "display_data"
    },
    {
     "name": "stdout",
     "output_type": "stream",
     "text": [
      "   contract_type_Two_year  Count  Percent\n",
      "0                       0   3013    76.41\n",
      "1                       1    930    23.59\n",
      "_________________________________________________________________\n"
     ]
    },
    {
     "data": {
      "image/png": "[encoded data removed]",
      "text/plain": [
       "<Figure size 144x144 with 1 Axes>"
      ]
     },
     "metadata": {
      "needs_background": "light"
     },
     "output_type": "display_data"
    },
    {
     "name": "stdout",
     "output_type": "stream",
     "text": [
      "   internet_service_type_DSL  Count  Percent\n",
      "0                          0   2578    65.38\n",
      "1                          1   1365    34.62\n",
      "_________________________________________________________________\n"
     ]
    },
    {
     "data": {
      "image/png": "[encoded data removed]",
      "text/plain": [
       "<Figure size 144x144 with 1 Axes>"
      ]
     },
     "metadata": {
      "needs_background": "light"
     },
     "output_type": "display_data"
    },
    {
     "name": "stdout",
     "output_type": "stream",
     "text": [
      "   internet_service_type_Fiber_optic  Count  Percent\n",
      "0                                  0   2246    56.96\n",
      "1                                  1   1697    43.04\n",
      "_________________________________________________________________\n"
     ]
    },
    {
     "data": {
      "image/png": "[encoded data removed]",
      "text/plain": [
       "<Figure size 144x144 with 1 Axes>"
      ]
     },
     "metadata": {
      "needs_background": "light"
     },
     "output_type": "display_data"
    },
    {
     "name": "stdout",
     "output_type": "stream",
     "text": [
      "   internet_service_type_None  Count  Percent\n",
      "0                           1   3062    77.66\n",
      "1                           0    881    22.34\n",
      "_________________________________________________________________\n"
     ]
    },
    {
     "data": {
      "image/png": "[encoded data removed]",
      "text/plain": [
       "<Figure size 144x144 with 1 Axes>"
      ]
     },
     "metadata": {
      "needs_background": "light"
     },
     "output_type": "display_data"
    },
    {
     "name": "stdout",
     "output_type": "stream",
     "text": [
      "   churn_Yes  Count  Percent\n",
      "0          0   2897    73.47\n",
      "1          1   1046    26.53\n",
      "_________________________________________________________________\n"
     ]
    },
    {
     "data": {
      "image/png": "[encoded data removed]",
      "text/plain": [
       "<Figure size 576x144 with 2 Axes>"
      ]
     },
     "metadata": {
      "needs_background": "light"
     },
     "output_type": "display_data"
    },
    {
     "name": "stdout",
     "output_type": "stream",
     "text": [
      "count    3943.000000\n",
      "mean       32.143799\n",
      "std        24.434152\n",
      "min         0.000000\n",
      "25%         9.000000\n",
      "50%        29.000000\n",
      "75%        55.000000\n",
      "max        72.000000\n",
      "Name: tenure, dtype: float64\n"
     ]
    },
    {
     "data": {
      "image/png": "[encoded data removed]",
      "text/plain": [
       "<Figure size 576x144 with 2 Axes>"
      ]
     },
     "metadata": {
      "needs_background": "light"
     },
     "output_type": "display_data"
    },
    {
     "name": "stdout",
     "output_type": "stream",
     "text": [
      "count    3943.000000\n",
      "mean       64.191910\n",
      "std        30.003617\n",
      "min        18.250000\n",
      "25%        34.700000\n",
      "50%        70.050000\n",
      "75%        89.425000\n",
      "max       118.650000\n",
      "Name: monthly_charges, dtype: float64\n"
     ]
    },
    {
     "data": {
      "image/png": "[encoded data removed]",
      "text/plain": [
       "<Figure size 576x144 with 2 Axes>"
      ]
     },
     "metadata": {
      "needs_background": "light"
     },
     "output_type": "display_data"
    },
    {
     "name": "stdout",
     "output_type": "stream",
     "text": [
      "count    3943.000000\n",
      "mean     2237.319706\n",
      "std      2230.492855\n",
      "min        18.900000\n",
      "25%       399.350000\n",
      "50%      1386.800000\n",
      "75%      3676.625000\n",
      "max      8684.800000\n",
      "Name: total_charges, dtype: float64\n"
     ]
    }
   ],
   "source": [
    "cat_vars = ['contract_type_Month-to-month', 'contract_type_One_year', 'contract_type_Two_year', 'internet_service_type_DSL', 'internet_service_type_Fiber_optic', 'internet_service_type_None', 'churn_Yes']\n",
    "quant_vars = ['tenure', 'monthly_charges', 'total_charges']\n",
    "target = 'churn_Yes'\n",
    "\n",
    "explore_univariate(train, cat_vars, quant_vars)"
   ]
  },
  {
   "cell_type": "markdown",
   "id": "secondary-charles",
   "metadata": {},
   "source": [
    "This exploration revealed that most customers had month-to-month contracts and fiber optic internet service. We also saw that tenure, monthly charges, and total charges were far from normally distributed. For the most part, these variables were skewed to the right."
   ]
  },
  {
   "cell_type": "markdown",
   "id": "humanitarian-marble",
   "metadata": {},
   "source": [
    "#### Hypothesis testing\n",
    "\n",
    "We used a confidence level of 95% to test our hypotheses."
   ]
  },
  {
   "cell_type": "code",
   "execution_count": 9,
   "id": "ideal-warner",
   "metadata": {},
   "outputs": [],
   "source": [
    "alpha = .05"
   ]
  },
  {
   "cell_type": "code",
   "execution_count": 11,
   "id": "advance-mailman",
   "metadata": {},
   "outputs": [
    {
     "name": "stdout",
     "output_type": "stream",
     "text": [
      "p value is less than alpha:  True\n"
     ]
    }
   ],
   "source": [
    "# Dependency between month-to-month contracts and churn\n",
    "null_hyp = \"Churn is independent of month-to-month contracts.\"\n",
    "alt_hyp = \"Month-to-month contracts and churn are dependent on each other.\"\n",
    "\n",
    "observed = pd.crosstab(train.churn_Yes, train['contract_type_Month-to-month'])\n",
    "chi2, p, degf, expected = stats.chi2_contingency(observed)\n",
    "\n",
    "print(f\"p value is less than alpha:  {p < alpha}\")"
   ]
  },
  {
   "cell_type": "code",
   "execution_count": 12,
   "id": "coastal-warren",
   "metadata": {},
   "outputs": [
    {
     "name": "stdout",
     "output_type": "stream",
     "text": [
      "p value is less than alpha:  True\n"
     ]
    }
   ],
   "source": [
    "# Dependency between fiber and churn\n",
    "null_hyp = \"Churn is independent of fiber service.\"\n",
    "alt_hyp = \"Fiber service and churn are dependent on each other.\"\n",
    "\n",
    "observed = pd.crosstab(train.churn_Yes, train.internet_service_type_Fiber_optic)\n",
    "chi2, p, degf, expected = stats.chi2_contingency(observed)\n",
    "\n",
    "print(f\"p value is less than alpha:  {p < alpha}\")"
   ]
  },
  {
   "cell_type": "code",
   "execution_count": 13,
   "id": "ancient-polymer",
   "metadata": {},
   "outputs": [
    {
     "name": "stdout",
     "output_type": "stream",
     "text": [
      "------------------------------------------\n",
      "corr:  0.23760458551856645, p:  9.892794406868373e-52, a:  Monthly charges and tenure have a correlation.\n",
      "\n",
      "We reject the null hypothesis. We move forward with the alternative hypothesis:  Monthly charges and tenure have a correlation.\n",
      "Correlation direction:  positive\n",
      "------------------------------------------\n"
     ]
    },
    {
     "data": {
      "text/plain": [
       "{'corr': 0.23760458551856645,\n",
       " 'p': 9.892794406868373e-52,\n",
       " 'a': 0.05,\n",
       " 'reject_null': True,\n",
       " 'message': 'We reject the null hypothesis. We move forward with the alternative hypothesis:  Monthly charges and tenure have a correlation.',\n",
       " 'correlation': 'positive'}"
      ]
     },
     "execution_count": 13,
     "metadata": {},
     "output_type": "execute_result"
    }
   ],
   "source": [
    "# Correlation between tenure and monthly charges\n",
    "null_hyp = \"Monthly charges do not correlate with tenure.\"\n",
    "alt_hyp = \"Monthly charges and tenure have a correlation.\"\n",
    "\n",
    "corr, p = stats.pearsonr(train.monthly_charges, train.tenure)\n",
    "evaluate_hypothesis_pcorrelation(corr, p, alpha=alpha, null_hypothesis=null_hyp, alternative_hypothesis=alt_hyp)"
   ]
  },
  {
   "cell_type": "code",
   "execution_count": 15,
   "id": "unsigned-potato",
   "metadata": {},
   "outputs": [
    {
     "name": "stdout",
     "output_type": "stream",
     "text": [
      "------------------------------------------\n",
      "t:  70.19897136074535, p:  0.0, a:  0.05\n",
      "\n",
      "We reject the null hypothesis. We move forward with the alternative hypothesis:  Month-to-month fiber customers do pay higher monthly charges than other customers.\n",
      "------------------------------------------\n"
     ]
    },
    {
     "data": {
      "text/plain": [
       "{'t': 70.19897136074535,\n",
       " 'p': 0.0,\n",
       " 'a': 0.05,\n",
       " 'message': 'We reject the null hypothesis. We move forward with the alternative hypothesis:  Month-to-month fiber customers do pay higher monthly charges than other customers.',\n",
       " 'reject_null': True}"
      ]
     },
     "execution_count": 15,
     "metadata": {},
     "output_type": "execute_result"
    }
   ],
   "source": [
    "# Month-to-month fiber customers and monthly charges \n",
    "null_hyp = \"Month-to-month fiber customers do not pay more in monthly charges than other customers.\"\n",
    "alt_hyp = \"Month-to-month fiber customers do pay higher monthly charges than other customers.\"\n",
    "\n",
    "monthly_fiber_customers = train[(train['contract_type_Month-to-month'] == 1) & (train.internet_service_type_Fiber_optic == 1)]\n",
    "samples = monthly_fiber_customers.monthly_charges\n",
    "\n",
    "population_mean = train.monthly_charges.mean()\n",
    "\n",
    "t, p = stats.ttest_1samp(samples, population_mean)\n",
    "evaluate_hypothesis_ttest(p, t, alpha=alpha, tails=\"greater\", null_hypothesis=null_hyp, alternative_hypothesis=alt_hyp)"
   ]
  },
  {
   "cell_type": "markdown",
   "id": "amended-hello",
   "metadata": {},
   "source": [
    "The results from the statistical testing allow us to move forward with all our alternative hypotheses:\n",
    "1. Month-to-month contracts and churn are dependent on each other.\n",
    "2. Fiber service and churn are dependent on each other.\n",
    "3. Monthly charges and tenure have a correlation.\n",
    "4. Month-to-month fiber customers do pay higher monthly charges than other customers."
   ]
  },
  {
   "cell_type": "code",
   "execution_count": null,
   "id": "recent-jamaica",
   "metadata": {},
   "outputs": [],
   "source": []
  }
 ],
 "metadata": {
  "kernelspec": {
   "display_name": "Python 3",
   "language": "python",
   "name": "python3"
  },
  "language_info": {
   "codemirror_mode": {
    "name": "ipython",
    "version": 3
   },
   "file_extension": ".py",
   "mimetype": "text/x-python",
   "name": "python",
   "nbconvert_exporter": "python",
   "pygments_lexer": "ipython3",
   "version": "3.8.5"
  }
 },
 "nbformat": 4,
 "nbformat_minor": 5
}
